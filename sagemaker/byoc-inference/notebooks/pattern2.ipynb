{
 "cells": [
  {
   "cell_type": "markdown",
   "id": "4c390dd7-2e2b-47ea-9cc5-d25584fab13a",
   "metadata": {},
   "source": [
    "# Pattern 2"
   ]
  },
  {
   "cell_type": "markdown",
   "id": "9bb32a0a-7f18-4bdd-b128-a951cda03254",
   "metadata": {},
   "source": [
    "## Prepare Resource IDs\n",
    "\n",
    "まずは作業中に利用する、ECR repository と S3 bucket の ID を変数に代入しておく。CDK でデプロイした CloudFormation stack を確認して、以下を編集して代入しておく。"
   ]
  },
  {
   "cell_type": "code",
   "execution_count": null,
   "id": "46b7aed9-3090-45f2-9513-5e57f44e007c",
   "metadata": {
    "tags": []
   },
   "outputs": [],
   "source": [
    "repository = '...'"
   ]
  },
  {
   "cell_type": "code",
   "execution_count": null,
   "id": "d894d917-9a83-4590-8f35-4a209f86bc51",
   "metadata": {
    "tags": []
   },
   "outputs": [],
   "source": [
    "import sagemaker\n",
    "bucket = sagemaker.Session().default_bucket()\n",
    "bucket"
   ]
  },
  {
   "cell_type": "markdown",
   "id": "57a62858-2124-4ad6-9057-b32e3ff29cbb",
   "metadata": {
    "tags": []
   },
   "source": [
    "また AWS account ID と region ID の情報も必要となるので、こちらも変数に代入しておく。"
   ]
  },
  {
   "cell_type": "code",
   "execution_count": null,
   "id": "d75f1d4c-fc89-4392-8730-d5f39677f360",
   "metadata": {
    "tags": []
   },
   "outputs": [],
   "source": [
    "import boto3\n",
    "sts = boto3.client('sts')\n",
    "\n",
    "account = sts.get_caller_identity()['Account']\n",
    "account"
   ]
  },
  {
   "cell_type": "code",
   "execution_count": null,
   "id": "62805c34-e362-4df9-be6f-6abf0c6c2cc8",
   "metadata": {
    "tags": []
   },
   "outputs": [],
   "source": [
    "region = boto3.Session().region_name\n",
    "region"
   ]
  },
  {
   "cell_type": "markdown",
   "id": "8c3a9cfc-7090-4356-9a9e-d47e3e00a9b2",
   "metadata": {},
   "source": [
    "## Prepare Model Artifact\n",
    "\n",
    "モデルのアーティファクト（モデルの重みが保存されているファイル）を準備する。\n",
    "このパターンでは、 NumPy の行列を利用する。"
   ]
  },
  {
   "cell_type": "code",
   "execution_count": null,
   "id": "627b8913-c25e-426f-8cd0-a3833d4ef207",
   "metadata": {
    "tags": []
   },
   "outputs": [],
   "source": [
    "import numpy as np\n",
    "import tarfile\n",
    "\n",
    "w = np.identity(2, dtype=np.float32) * 10\n",
    "w"
   ]
  },
  {
   "cell_type": "code",
   "execution_count": null,
   "id": "5f3528d8-f396-49db-8a55-fa34a73103d6",
   "metadata": {
    "tags": []
   },
   "outputs": [],
   "source": [
    "np.save('model.npy', w)\n",
    "with tarfile.open('model.tar.gz', 'w:gz') as f:\n",
    "    f.add('model.npy')"
   ]
  },
  {
   "cell_type": "code",
   "execution_count": null,
   "id": "3ea7b284-eabd-43e7-b3d9-e897881860a0",
   "metadata": {
    "tags": []
   },
   "outputs": [],
   "source": [
    "model_data = f's3://{bucket}/byoc-inference/numpy/model.tar.gz'"
   ]
  },
  {
   "cell_type": "code",
   "execution_count": null,
   "id": "f5eaf51c-c577-489d-b052-759c630a4fc5",
   "metadata": {
    "tags": []
   },
   "outputs": [],
   "source": [
    "!aws s3 cp model.tar.gz {model_data}"
   ]
  },
  {
   "cell_type": "markdown",
   "id": "058f96e8-1e5a-426b-87ee-9e39d4d21e71",
   "metadata": {},
   "source": [
    "## Prepare Container Image\n",
    "\n",
    "コンテナイメージを準備する。このパターンでは、ブログの通り 4 つの手順に分解される。\n",
    "\n",
    "1. (省略可能) Handler の実装とコンテナイメージへのコピー\n",
    "2. (省略可能) HandlerService の実装とコンテナイメージへのコピー\n",
    "3. コンテナ起動時のエントリーポイントの実装とコンテナイメージへのコピー\n",
    "4. コンテナイメージのビルド\n",
    "\n",
    "まずは 3 である。"
   ]
  },
  {
   "cell_type": "code",
   "execution_count": null,
   "id": "943552cd-09d3-4df9-8e70-92b0fe45e528",
   "metadata": {
    "tags": []
   },
   "outputs": [],
   "source": [
    "%%writefile container_entry_point.py\n",
    "from sagemaker_inference import model_server \n",
    "\n",
    "model_server.start_model_server()"
   ]
  },
  {
   "cell_type": "markdown",
   "id": "d5cff928-e68a-4ad7-9a0a-88b7f57ed293",
   "metadata": {},
   "source": [
    "続いては 4 である。Dockerfile は以下である。"
   ]
  },
  {
   "cell_type": "code",
   "execution_count": null,
   "id": "7257a418-9031-4926-ba7c-5709b71a07d2",
   "metadata": {
    "tags": []
   },
   "outputs": [],
   "source": [
    "%%writefile Dockerfile\n",
    "FROM python:3.8\n",
    "WORKDIR /usr/src/app\n",
    "RUN apt-get update && apt-get upgrade -y && apt-get install -y openjdk-17-jdk-headless\n",
    "RUN pip install --no-cache-dir numpy multi-model-server sagemaker-inference\n",
    "COPY container_entry_point.py ./\n",
    "ENTRYPOINT [\"python\", \"/usr/src/app/container_entry_point.py\"]"
   ]
  },
  {
   "cell_type": "markdown",
   "id": "b34e7122-1a78-4c76-b9bd-7828ddb6e014",
   "metadata": {},
   "source": [
    "これをビルドする。"
   ]
  },
  {
   "cell_type": "code",
   "execution_count": null,
   "id": "b4ef4e12-8c0a-47b4-b07b-dd2edee3cc81",
   "metadata": {
    "tags": []
   },
   "outputs": [],
   "source": [
    "!docker image build . -t byoc-inference-pattern2"
   ]
  },
  {
   "cell_type": "code",
   "execution_count": null,
   "id": "d8f9d6ba-07a8-4d52-80c9-9d1d857f33cc",
   "metadata": {
    "tags": []
   },
   "outputs": [],
   "source": [
    "!docker image ls"
   ]
  },
  {
   "cell_type": "markdown",
   "id": "7295296f-f5fd-4b0d-9a3e-61d2b6ae1995",
   "metadata": {},
   "source": [
    "今ビルドしたコンテナイメージを、自身の AWS account の ECR registry の repostiry へプッシュする。まずは、認証情報を登録する。"
   ]
  },
  {
   "cell_type": "code",
   "execution_count": null,
   "id": "d08b7b2b-e577-43bd-8a56-54bf1891fcc8",
   "metadata": {
    "tags": []
   },
   "outputs": [],
   "source": [
    "!aws ecr get-login-password | docker login --username AWS --password-stdin {account}.dkr.ecr.{region}.amazonaws.com"
   ]
  },
  {
   "cell_type": "code",
   "execution_count": null,
   "id": "87cffd22-3171-4d82-89bc-81af0537c10c",
   "metadata": {
    "tags": []
   },
   "outputs": [],
   "source": [
    "!docker image tag byoc-inference-pattern2 {account}.dkr.ecr.{region}.amazonaws.com/{repository}:pattern2"
   ]
  },
  {
   "cell_type": "code",
   "execution_count": null,
   "id": "49de9e1b-8079-43dc-b8d1-47ff34f2a562",
   "metadata": {
    "tags": []
   },
   "outputs": [],
   "source": [
    "!docker image ls"
   ]
  },
  {
   "cell_type": "code",
   "execution_count": null,
   "id": "d891db62-7392-4780-8c3d-c0aaf00fa5b9",
   "metadata": {
    "tags": []
   },
   "outputs": [],
   "source": [
    "!docker image push {account}.dkr.ecr.{region}.amazonaws.com/{repository}:pattern2"
   ]
  },
  {
   "cell_type": "markdown",
   "id": "af43981b-52cc-491c-b102-a68e95b34963",
   "metadata": {},
   "source": [
    "## Prepare Inference Code\n",
    "\n",
    "推論コードを準備する。ブログにも記載のように別のディレクトリを作成する必要があることに注意である。"
   ]
  },
  {
   "cell_type": "code",
   "execution_count": null,
   "id": "3cc99822-8672-4b29-9f52-ebc240ee1923",
   "metadata": {
    "tags": []
   },
   "outputs": [],
   "source": [
    "!mkdir -p code"
   ]
  },
  {
   "cell_type": "code",
   "execution_count": null,
   "id": "f8155b91-7a50-4ac8-bb61-df0547d91131",
   "metadata": {
    "tags": []
   },
   "outputs": [],
   "source": [
    "%%writefile ./code/entry_point.py\n",
    "from pathlib import Path\n",
    "import numpy as np\n",
    "from sagemaker_inference import content_types, decoder, default_inference_handler, encoder\n",
    "\n",
    "def model_fn(model_dir, context=None):\n",
    "    return np.load(str(Path(model_dir) / 'model.npy'))\n",
    "\n",
    "def input_fn(input_data, content_type, context=None):\n",
    "    print(input_data)\n",
    "    print(content_type)\n",
    "    return decoder.decode(input_data, content_type)\n",
    "\n",
    "def predict_fn(data, model, context=None):\n",
    "    return model @ data\n",
    "    \n",
    "def output_fn(prediction, accept, context=None):\n",
    "    return encoder.encode(prediction, accept)"
   ]
  },
  {
   "cell_type": "markdown",
   "id": "c27f91ee-320d-49ac-b5cf-35190453f89d",
   "metadata": {},
   "source": [
    "## Deploy and Invoke SageMaker Endpoint\n",
    "\n",
    "モデルアーティファクト、コンテナイメージ、推論コードの準備が整ったので、これらを用いて SageMaker endpoint をデプロイする。"
   ]
  },
  {
   "cell_type": "code",
   "execution_count": null,
   "id": "207aff2a-181d-4b1c-870e-418a4073ad3b",
   "metadata": {
    "tags": []
   },
   "outputs": [],
   "source": [
    "import sagemaker\n",
    "from sagemaker import Model\n",
    "\n",
    "model = Model(\n",
    "    model_data=model_data,\n",
    "    image_uri=f'{account}.dkr.ecr.{region}.amazonaws.com/{repository}:pattern2',\n",
    "    entry_point='entry_point.py',\n",
    "    source_dir='./code',\n",
    "    role=sagemaker.get_execution_role(),\n",
    "    predictor_cls=sagemaker.predictor.Predictor,\n",
    ")"
   ]
  },
  {
   "cell_type": "code",
   "execution_count": null,
   "id": "c8ed2c4b-7dc6-4bc5-abfa-a63ea2d105fa",
   "metadata": {
    "tags": []
   },
   "outputs": [],
   "source": [
    "predictor = model.deploy(initial_instance_count=1, instance_type='ml.m5.xlarge')"
   ]
  },
  {
   "cell_type": "code",
   "execution_count": null,
   "id": "ad81b3c8-abc6-4b77-9fdf-3a948f7fae17",
   "metadata": {
    "tags": []
   },
   "outputs": [],
   "source": [
    "predictor.serializer = sagemaker.serializers.NumpySerializer(dtype=np.float32)\n",
    "predictor.deserializer = sagemaker.deserializers.NumpyDeserializer(dtype=np.float32)"
   ]
  },
  {
   "cell_type": "code",
   "execution_count": null,
   "id": "cdc2a7fd-0069-4ee3-a8d7-f2600bef3fa4",
   "metadata": {
    "tags": []
   },
   "outputs": [],
   "source": [
    "predictor.predict(np.array([1, 2]))"
   ]
  },
  {
   "cell_type": "markdown",
   "id": "95804c0c-42e5-4b42-be1b-7be457932b0d",
   "metadata": {},
   "source": [
    "以上でパターン 2 は完了である。"
   ]
  },
  {
   "cell_type": "markdown",
   "id": "232564e0-7175-45df-81d6-52d649bb1383",
   "metadata": {},
   "source": [
    "## Clean Up"
   ]
  },
  {
   "cell_type": "code",
   "execution_count": null,
   "id": "69acdfe0-b281-4bc1-a666-b3402a75de20",
   "metadata": {
    "tags": []
   },
   "outputs": [],
   "source": [
    "predictor.delete_endpoint()"
   ]
  },
  {
   "cell_type": "code",
   "execution_count": null,
   "id": "d9ef873c-29f0-4c65-8f68-49384a45f5cd",
   "metadata": {},
   "outputs": [],
   "source": []
  }
 ],
 "metadata": {
  "kernelspec": {
   "display_name": "conda_pytorch_p310",
   "language": "python",
   "name": "conda_pytorch_p310"
  },
  "language_info": {
   "codemirror_mode": {
    "name": "ipython",
    "version": 3
   },
   "file_extension": ".py",
   "mimetype": "text/x-python",
   "name": "python",
   "nbconvert_exporter": "python",
   "pygments_lexer": "ipython3",
   "version": "3.10.12"
  }
 },
 "nbformat": 4,
 "nbformat_minor": 5
}
