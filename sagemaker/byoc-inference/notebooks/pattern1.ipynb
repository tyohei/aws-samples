{
 "cells": [
  {
   "cell_type": "markdown",
   "id": "c9ed9b70-5d84-43eb-9071-b260eac6d46f",
   "metadata": {
    "tags": []
   },
   "source": [
    "# Pattern 1"
   ]
  },
  {
   "cell_type": "markdown",
   "id": "47806989-bc12-479c-bfc5-645d66465d9e",
   "metadata": {},
   "source": [
    "## Prepare Resource IDs\n",
    "\n",
    "まずは作業中に利用する、ECR repository の ID を変数に代入しておく。CDK でデプロイした CloudFormation stack を確認して、以下を編集して代入しておく。"
   ]
  },
  {
   "cell_type": "code",
   "execution_count": null,
   "id": "6fd99549-d394-418a-87eb-7a2a937e95ee",
   "metadata": {
    "tags": []
   },
   "outputs": [],
   "source": [
    "repository = '...'"
   ]
  },
  {
   "cell_type": "markdown",
   "id": "dfb46c63-5b62-49a2-84eb-860e5228baa1",
   "metadata": {
    "tags": []
   },
   "source": [
    "また AWS account ID と region ID の情報も必要となるので、こちらも変数に代入しておく。"
   ]
  },
  {
   "cell_type": "code",
   "execution_count": null,
   "id": "6d0a131e-36a6-4a40-af4b-dfc287909d27",
   "metadata": {
    "tags": []
   },
   "outputs": [],
   "source": [
    "import boto3\n",
    "sts = boto3.client('sts')\n",
    "\n",
    "account = sts.get_caller_identity()['Account']\n",
    "account"
   ]
  },
  {
   "cell_type": "code",
   "execution_count": null,
   "id": "a7bdcf86-f3be-4e5d-8644-7af5ef7de306",
   "metadata": {
    "tags": []
   },
   "outputs": [],
   "source": [
    "region = boto3.Session().region_name\n",
    "region"
   ]
  },
  {
   "cell_type": "markdown",
   "id": "23a553bf-3133-41d9-af5d-99bd00825031",
   "metadata": {},
   "source": [
    "## Prepare Model Artifact\n",
    "\n",
    "モデルのアーティファクト（モデルの重みが保存されているファイル）を準備する。\n",
    "このパターンでは、 [Amazon SageMaker Examples](https://github.com/aws/amazon-sagemaker-examples) の [PyTorch の MNIST サンプルコード](https://github.com/aws/amazon-sagemaker-examples/tree/main/sagemaker-python-sdk/pytorch_mnist) を利用する。\n",
    "\n",
    "この notebook を CDK でデプロイする SageMaker notebook instance 上で実行している場合、作業ディレクトリのルートに Amazon SageMaker Examples の Git リポジトリが自動的にクローンされている。もし異なる環境で実行している場合は、GitHub からリポジトリをクローンする。\n",
    "\n",
    "PyTorch の MNIST のサンプルコードは、一部編集するため、手元にコピーをおいておく。"
   ]
  },
  {
   "cell_type": "code",
   "execution_count": null,
   "id": "532ee9e1-7dd2-4cf7-a089-3669f36f58b0",
   "metadata": {
    "tags": []
   },
   "outputs": [],
   "source": [
    "!cp -r ../amazon-sagemaker-examples/sagemaker-python-sdk/pytorch_mnist/ ."
   ]
  },
  {
   "cell_type": "markdown",
   "id": "c31cffe6-a5a6-417d-b845-4ee6a9a98de7",
   "metadata": {},
   "source": [
    "コピーしたディレクトリにある `pytorch_mnist.ipynb` を実行していく。この notebook を `conda_pytorch_py310` のカーネル（もしくはより高いバージョンの Python のカーネル）で開く。\n",
    "\n",
    "上のセルから順番に実行していくが、 **最後までは実行せず** に **Host というセクションの直前** まで実行する。ここまで実行すれば、学習が完了し S3 にモデルのアーティファクトがアップロードされる。Host セクションの直前は、9 つ目のコードセルで `estimator.fit()` を実行しているはずである。\n",
    "\n",
    "後半のセクションで S3 にアップロードされたモデルのパスが必要となるため、最後に実行したコードセルの直後にセルを追加し、 `estimator.model_data` を実行する。実行すると次のような文字列が出力されるはずである。\n",
    "\n",
    "```\n",
    "'s3://sagemaker-{region}-{account}/pytorch-training-YYYY-MM-DD-HH-mm-ss-fff/output/model.tar.gz'\n",
    "```\n",
    "\n",
    "この文字列は後ほど利用するため、変数に代入しておく。"
   ]
  },
  {
   "cell_type": "code",
   "execution_count": null,
   "id": "a96b93ac-530e-49d0-bcfe-de876aa7e072",
   "metadata": {
    "tags": []
   },
   "outputs": [],
   "source": [
    "model_data = 's3://...'"
   ]
  },
  {
   "cell_type": "markdown",
   "id": "7b9e94a6-f62a-479a-8d55-f66674b42b9f",
   "metadata": {},
   "source": [
    "## Prepare Container Image\n",
    "\n",
    "コンテナイメージを準備する。\n",
    "このパターンでは、SageMaker が提供するイメージを拡張するため、SageMaker Python SDK の PyTorchModel object を作成し、それが利用するコンテナイメージを取得する。"
   ]
  },
  {
   "cell_type": "code",
   "execution_count": null,
   "id": "3f3dc615-923f-4b8a-9c02-a2a2d9e74807",
   "metadata": {
    "tags": []
   },
   "outputs": [],
   "source": [
    "import sagemaker\n",
    "from sagemaker.pytorch import PyTorchModel\n",
    "\n",
    "model = PyTorchModel(\n",
    "   entry_point='entry_point.py',\n",
    "   model_data='s3://DOC-EXAMPLE-BUCKET',\n",
    "   role=sagemaker.get_execution_role(),\n",
    "   framework_version='1.11',\n",
    "   py_version='py38',\n",
    ")\n",
    "\n",
    "image_uri = model.serving_image_uri(\n",
    "   region_name='ap-northeast-1',\n",
    "   instance_type='ml.m5.large',\n",
    ")\n",
    "image_uri"
   ]
  },
  {
   "cell_type": "markdown",
   "id": "1d802848-3f53-4dba-9a44-1631e0dc153a",
   "metadata": {},
   "source": [
    "PyTorchModel のコンストラクタに渡す `entry_point` と `model_data` は実際に存在しないファイルとパスでも問題ない。また `framework_version` と `py_version` は、今回モデル学習時の version と一致させるようにしている。\n",
    "\n",
    "コンテナイメージの URI を取得できたので、これをベースイメージとして拡張する。"
   ]
  },
  {
   "cell_type": "code",
   "execution_count": null,
   "id": "199e2f91-962d-43a4-9198-f9bbb8430451",
   "metadata": {
    "tags": []
   },
   "outputs": [],
   "source": [
    "dockerfile = f\"\"\"\\\n",
    "FROM {image_uri}\n",
    "RUN pip install -U sagemaker\\\n",
    "\"\"\"\n",
    "\n",
    "%store dockerfile >Dockerfile"
   ]
  },
  {
   "cell_type": "markdown",
   "id": "6c7bc24e-315f-4abe-8d99-8690336808a2",
   "metadata": {},
   "source": [
    "この Dockerfile は SageMaker Python SDK をアップデートするだけのほぼ何も意味を成さないものであるが、例としては問題ない。これをビルドするが、ベースイメージをダウンロードするために、Docker CLI に認証情報を登録しなければならない。認証情報は、自身の AWS account の ECR ではなく、SageMaker 用の PyTorch などのコンテナイメージが保存されている AWS account の ECR registry から取得する。"
   ]
  },
  {
   "cell_type": "code",
   "execution_count": null,
   "id": "a09df917-5ef6-4492-acc7-79963a484432",
   "metadata": {
    "tags": []
   },
   "outputs": [],
   "source": [
    "registry = image_uri.split('/')[0]\n",
    "registry"
   ]
  },
  {
   "cell_type": "code",
   "execution_count": null,
   "id": "4e908323-c3ca-41b0-839c-4c7682f1daba",
   "metadata": {
    "tags": []
   },
   "outputs": [],
   "source": [
    "!aws ecr get-login-password | docker login --username AWS --password-stdin {registry}"
   ]
  },
  {
   "cell_type": "markdown",
   "id": "1223b9a6-51ea-4e80-a428-28288355af50",
   "metadata": {},
   "source": [
    "そしてコンテナイメージをビルドする。"
   ]
  },
  {
   "cell_type": "code",
   "execution_count": null,
   "id": "c6c2f927-5950-4ea0-9320-d50190f3ed0b",
   "metadata": {
    "tags": []
   },
   "outputs": [],
   "source": [
    "!docker image build . -t byoc-inference-pattern1"
   ]
  },
  {
   "cell_type": "code",
   "execution_count": null,
   "id": "f730aee8-ee59-4f5e-b3f9-31f80058885e",
   "metadata": {
    "tags": []
   },
   "outputs": [],
   "source": [
    "!docker image ls"
   ]
  },
  {
   "cell_type": "markdown",
   "id": "c5d8801c-f9c0-4041-b62f-da363af20149",
   "metadata": {},
   "source": [
    "今ビルドしたコンテナイメージを、今度は自身の AWS account の ECR registry の repostiry へプッシュする。そのため、認証情報を再登録する。"
   ]
  },
  {
   "cell_type": "code",
   "execution_count": null,
   "id": "44e9bfb4-c906-4484-9fa3-255a938eedb2",
   "metadata": {
    "tags": []
   },
   "outputs": [],
   "source": [
    "!aws ecr get-login-password | docker login --username AWS --password-stdin {account}.dkr.ecr.{region}.amazonaws.com"
   ]
  },
  {
   "cell_type": "markdown",
   "id": "41b71d23-6a52-4517-8bd3-72d9e7e66590",
   "metadata": {},
   "source": [
    "そして CDK で作成した ECR repository へプッシュする。"
   ]
  },
  {
   "cell_type": "code",
   "execution_count": null,
   "id": "358cfe92-b3d9-4387-a67f-180572508fb0",
   "metadata": {
    "tags": []
   },
   "outputs": [],
   "source": [
    "!docker image tag byoc-inference-pattern1 {account}.dkr.ecr.{region}.amazonaws.com/{repository}:pattern1"
   ]
  },
  {
   "cell_type": "code",
   "execution_count": null,
   "id": "f6807930-3d26-47a2-add7-b85c2932376d",
   "metadata": {
    "tags": []
   },
   "outputs": [],
   "source": [
    "!docker image ls"
   ]
  },
  {
   "cell_type": "code",
   "execution_count": null,
   "id": "a7d577ac-bfe3-4e52-83ea-9d5b74da619b",
   "metadata": {
    "tags": []
   },
   "outputs": [],
   "source": [
    "!docker image push {account}.dkr.ecr.{region}.amazonaws.com/{repository}:pattern1"
   ]
  },
  {
   "cell_type": "markdown",
   "id": "262e8408-a21c-4429-8c14-e2fa32ce6855",
   "metadata": {},
   "source": [
    "## Deploy SageMaker Endpoint\n",
    "\n",
    "モデルアーティファクトと、コンテナイメージの準備は整ったので、これらを用いて SageMaker endpoint をデプロイする。デプロイするには SageMaker Python SDK の PyTorchModel object を利用する。推論コードは [PyTorch の MNIST サンプルコード](https://github.com/aws/amazon-sagemaker-examples/tree/main/sagemaker-python-sdk/pytorch_mnist) のものをそのまま流用する。"
   ]
  },
  {
   "cell_type": "code",
   "execution_count": null,
   "id": "8f7abd37-a13a-4202-9a20-cb6fd40d5cd2",
   "metadata": {
    "tags": []
   },
   "outputs": [],
   "source": [
    "model = PyTorchModel(\n",
    "    model_data=model_data,\n",
    "    image_uri=f'{account}.dkr.ecr.{region}.amazonaws.com/{repository}:pattern1',\n",
    "    entry_point='./pytorch_mnist/mnist.py',\n",
    "    role=sagemaker.get_execution_role(),\n",
    ")"
   ]
  },
  {
   "cell_type": "code",
   "execution_count": null,
   "id": "005267a9-9388-4472-9461-6efe038d4038",
   "metadata": {
    "tags": []
   },
   "outputs": [],
   "source": [
    "predictor = model.deploy(initial_instance_count=1, instance_type='ml.m5.xlarge')"
   ]
  },
  {
   "cell_type": "markdown",
   "id": "7822008a-206f-42da-8946-d199c2721dbc",
   "metadata": {},
   "source": [
    "## Invoke SageMaker Endpoint"
   ]
  },
  {
   "cell_type": "markdown",
   "id": "ee162f41-7d45-4b0b-a6fc-fb6c833f6b3c",
   "metadata": {
    "tags": []
   },
   "source": [
    "SageMaker endpoint は完了したので、推論処理を実行する。推論処理にはデータが必要なため、また[PyTorch の MNIST サンプルコード](https://github.com/aws/amazon-sagemaker-examples/tree/main/sagemaker-python-sdk/pytorch_mnist) からその部分のコードを拝借する。"
   ]
  },
  {
   "cell_type": "code",
   "execution_count": null,
   "id": "1b7944b0-5096-4667-b23b-90d5981b0741",
   "metadata": {
    "tags": []
   },
   "outputs": [],
   "source": [
    "import gzip\n",
    "import numpy as np\n",
    "import random\n",
    "import os\n",
    "\n",
    "data_dir = \"./pytorch_mnist/data/MNIST/raw\"\n",
    "with gzip.open(os.path.join(data_dir, \"t10k-images-idx3-ubyte.gz\"), \"rb\") as f:\n",
    "    images = np.frombuffer(f.read(), np.uint8, offset=16).reshape(-1, 28, 28).astype(np.float32)\n",
    "\n",
    "mask = random.sample(range(len(images)), 16)  # randomly select some of the test images\n",
    "mask = np.array(mask, dtype=np.int32)\n",
    "data = images[mask]"
   ]
  },
  {
   "cell_type": "code",
   "execution_count": null,
   "id": "c0ef0ea3-d2e6-4107-9aed-49242988453e",
   "metadata": {
    "tags": []
   },
   "outputs": [],
   "source": [
    "response = predictor.predict(np.expand_dims(data, axis=1))\n",
    "print(\"Raw prediction result:\")\n",
    "print(response)\n",
    "print()\n",
    "\n",
    "labeled_predictions = list(zip(range(10), response[0]))\n",
    "print(\"Labeled predictions: \")\n",
    "print(labeled_predictions)\n",
    "print()\n",
    "\n",
    "labeled_predictions.sort(key=lambda label_and_prob: 1.0 - label_and_prob[1])\n",
    "print(\"Most likely answer: {}\".format(labeled_predictions[0]))"
   ]
  },
  {
   "cell_type": "markdown",
   "id": "ed423fcb-b14d-4e35-9bc5-37ec5414c655",
   "metadata": {},
   "source": [
    "以上でパターン 1 は完了である。"
   ]
  },
  {
   "cell_type": "markdown",
   "id": "2cb9baaa-cafd-412c-98e1-7b8a459ca2db",
   "metadata": {},
   "source": [
    "## Clean Up"
   ]
  },
  {
   "cell_type": "code",
   "execution_count": null,
   "id": "98a830d2-9ef1-4423-86f3-6d5989d6ea42",
   "metadata": {
    "tags": []
   },
   "outputs": [],
   "source": [
    "predictor.delete_endpoint()"
   ]
  },
  {
   "cell_type": "code",
   "execution_count": null,
   "id": "7c88d38d-05af-4a82-9e8a-75b6ee27591f",
   "metadata": {},
   "outputs": [],
   "source": []
  }
 ],
 "metadata": {
  "kernelspec": {
   "display_name": "conda_pytorch_p310",
   "language": "python",
   "name": "conda_pytorch_p310"
  },
  "language_info": {
   "codemirror_mode": {
    "name": "ipython",
    "version": 3
   },
   "file_extension": ".py",
   "mimetype": "text/x-python",
   "name": "python",
   "nbconvert_exporter": "python",
   "pygments_lexer": "ipython3",
   "version": "3.10.12"
  }
 },
 "nbformat": 4,
 "nbformat_minor": 5
}
